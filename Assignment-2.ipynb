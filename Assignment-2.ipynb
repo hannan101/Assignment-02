{
 "cells": [
  {
   "cell_type": "markdown",
   "id": "5ac292f5-f573-4cbf-94e8-85a611db2d27",
   "metadata": {},
   "source": [
    "# Assignment #02 ( List, Dictionary, Loops, if-else)"
   ]
  },
  {
   "cell_type": "markdown",
   "id": "379e3e88-567d-43fd-8c80-ec34ec37d095",
   "metadata": {},
   "source": [
    "## Problem 1: Grocery Shopping List"
   ]
  },
  {
   "cell_type": "code",
   "execution_count": 38,
   "id": "b11abf36-19e3-48b5-8ee5-6cb641d0cadb",
   "metadata": {},
   "outputs": [
    {
     "name": "stdout",
     "output_type": "stream",
     "text": [
      "To add items Type : 1\n",
      "To remove items Type : 2\n",
      "To Display List Type : 3\n"
     ]
    },
    {
     "name": "stdin",
     "output_type": "stream",
     "text": [
      "ENTER NUMBER 1, 2, 3 \n",
      " h\n"
     ]
    },
    {
     "name": "stdout",
     "output_type": "stream",
     "text": [
      "Code Stop\n"
     ]
    }
   ],
   "source": [
    "while True:\n",
    "    print(\"To add items Type : 1\")\n",
    "    print(\"To remove items Type : 2\")\n",
    "    print(\"To Display List Type : 3\")\n",
    "    user_input = input('ENTER NUMBER 1, 2, 3 \\n' ) \n",
    "    grocery_items = [] \n",
    "    if int(user_input == 1):\n",
    "        item_num = int(input('Enter nun of items: '))\n",
    "        for i in range(item_num):\n",
    "            item = input(f'Enter item {i + 1} for grocery list: ')\n",
    "            grocery_items.append(item) \n",
    "        print(grocery_items)\n",
    "\n",
    "    elif int(user_input == 2):\n",
    "        if not grocery_items:\n",
    "            print('List is empty')\n",
    "        else:\n",
    "            remove_item = input('Enter remove item you want')\n",
    "            for remove_item in grocery_items:\n",
    "                remove_item.remove(grocery_items)\n",
    "    elif int(user_input == 3): \n",
    "        if not grocery_items:\n",
    "            print('list is empty')\n",
    "        else:\n",
    "            print(grocery_items) \n",
    "    else:\n",
    "        print(\"Code Stop\")\n",
    "        break\n",
    "\n"
   ]
  },
  {
   "cell_type": "markdown",
   "id": "aea61fea-a043-44df-ba73-2920ca914c48",
   "metadata": {},
   "source": [
    "## Problem No: 2   Student Grades\n",
    "### You are managing student grades using a dictionary. You need to calculate the average grade.take atleast 5 Students grades & then calculate the average.."
   ]
  },
  {
   "cell_type": "code",
   "execution_count": null,
   "id": "a2fb78c7-f09d-45f9-8944-1b2d1272bff2",
   "metadata": {},
   "outputs": [],
   "source": [
    "def calculated_grade(a):\n",
    "    total = sum(student_grades.values())\n",
    "    count = len(student_grades)\n",
    "    average = total/count\n",
    "    return average\n",
    "    \n",
    "    \n",
    "student_grades = {\n",
    "    \"Alice\": 85,\n",
    "    \"Bob\": 90,\n",
    "    \"Charlie\": 78,\n",
    "    \"David\": 92,\n",
    "    \"Eva\": 88\n",
    "}\n",
    "\n",
    "result = calculated_grade(student_grades)\n",
    "print(result)\n"
   ]
  },
  {
   "cell_type": "markdown",
   "id": "e7100b7f-e52a-41e0-be6d-7ebca2512b5e",
   "metadata": {},
   "source": [
    "## Problem no 3   Word Frequency Counter\r",
    "### \n",
    "You are given a list of words, and you need to count the frequency of each word .### \r\n",
    "word_list = [\"apple\", \"banana\", \"apple\", \"orange\", \"banana\", \"grape\", \"apple\"]"
   ]
  },
  {
   "cell_type": "code",
   "execution_count": 6,
   "id": "c972b356-94c0-4235-af10-972599145f27",
   "metadata": {},
   "outputs": [
    {
     "name": "stdout",
     "output_type": "stream",
     "text": [
      "Word frequency:  {'apple': 3, 'banana': 2, 'orange': 1, 'grape': 1}\n"
     ]
    }
   ],
   "source": [
    "word_list = [\"apple\", \"banana\", \"apple\", \"orange\", \"banana\",\"grape\", \"apple\"]\n",
    "\n",
    "word_counts = {}\n",
    "for word in word_list:\n",
    "    if word in word_counts:\n",
    "        word_counts[word] += 1\n",
    "    \n",
    "    else:\n",
    "        word_counts[word] = 1\n",
    "        \n",
    "print(\"Word frequency: \",word_counts)\n",
    "        \n",
    "    "
   ]
  },
  {
   "cell_type": "code",
   "execution_count": null,
   "id": "d2b2d64f-a80d-49eb-ba4a-2cdea2defb92",
   "metadata": {},
   "outputs": [],
   "source": []
  },
  {
   "cell_type": "markdown",
   "id": "06a979c8-742c-4346-8502-48cf088666b1",
   "metadata": {},
   "source": [
    "## Problem 4: Password Strength Checker\n",
    "### You are creating a program to check the strength of passwords based on certain criteria.\r",
    "### \n",
    "• Password should be at least 8 characters long.### \r\n",
    "• Password should contain at least one digit### .\r\n",
    "• Password should contain at least one letter."
   ]
  },
  {
   "cell_type": "code",
   "execution_count": 3,
   "id": "2547a345-15f5-4128-b5a3-3b7cf82b2407",
   "metadata": {},
   "outputs": [
    {
     "name": "stdout",
     "output_type": "stream",
     "text": [
      "Password should be at least 8 characters long\n",
      "Password should contain at least one digit.\n",
      "Password should contain at least one letter.\n"
     ]
    },
    {
     "name": "stdin",
     "output_type": "stream",
     "text": [
      "Please enter strong password for security: sdcyrci9\n"
     ]
    },
    {
     "name": "stdout",
     "output_type": "stream",
     "text": [
      "\n",
      "Password strength is Valid & Strong\n"
     ]
    }
   ],
   "source": [
    "print(\"Password should be at least 8 characters long\")\n",
    "print(\"Password should contain at least one digit.\")\n",
    "print(\"Password should contain at least one letter.\")\n",
    "\n",
    "pasword = input(\"Please enter strong password for security:\")\n",
    "alphabet = \"abcdefghijklmnopqrstuvwxyz\"\n",
    "digit = '012345678910'\n",
    "\n",
    "if len(pasword) == 8:\n",
    "    l_pasword = True\n",
    "else:\n",
    "    l_pasword = False\n",
    "    \n",
    "for i in alphabet:\n",
    "    if i in pasword:\n",
    "        alph = True\n",
    "        break\n",
    "    else:\n",
    "        alph = False\n",
    "\n",
    "for i in digit:\n",
    "    if i in pasword:\n",
    "        digit_present = True\n",
    "        break\n",
    "    else:\n",
    "        digit_present = False\n",
    "    \n",
    "\n",
    "if l_pasword and alph and digit_present:  \n",
    "    print('\\nPassword strength is Valid & Strong')\n"
   ]
  },
  {
   "cell_type": "markdown",
   "id": "c0805693-73d1-4659-9fae-57aa4f9c239a",
   "metadata": {},
   "source": [
    "## Problem 04: Voting System (Annual Employee Recognition Awards)"
   ]
  },
  {
   "cell_type": "code",
   "execution_count": null,
   "id": "680b62a7-1ada-4c82-8d92-b95f9601af4e",
   "metadata": {},
   "outputs": [],
   "source": [
    "number_vote = int(input(\"Enter the number of voters: \"))\n",
    "candidate1 = []\n",
    "candidate2 = []\n",
    "candidate3 = []\n",
    "\n",
    "for i in range(number_vote):\n",
    "    print(1, \". Candidate A\")\n",
    "    print(2, \". Candidate B\")\n",
    "    print(3, \". Candidate C\")\n",
    "    print('Press q for stop voting')\n",
    "    vote_for = input(f\"Voter {int(i) + 1}, Please choose your candidate: \")\n",
    "    if vote_for == '1':\n",
    "        candidate1.append(1)\n",
    "    elif vote_for == '2':\n",
    "        candidate2.append(1)\n",
    "    elif vote_for == '3':\n",
    "        candidate3.append(1)\n",
    "    elif vote_for == \"q\":\n",
    "        break\n",
    "        \n",
    "    else:\n",
    "        print(\"Please enter valid number: \") \n",
    "        vote_for = int(input(f\"Voter {i + 1}, Please choose your candidate: \"))\n",
    "        \n",
    "print(f\"Candidate A vote: {sum(candidate1)} \")\n",
    "print(f\"Candidate B vote: {sum(candidate2)} \")\n",
    "print(f\"Candidate C vote: {sum(candidate3)} \")"
   ]
  },
  {
   "cell_type": "code",
   "execution_count": null,
   "id": "9ae5f828-bbe5-4475-8695-140acb9ca499",
   "metadata": {},
   "outputs": [],
   "source": []
  },
  {
   "cell_type": "code",
   "execution_count": null,
   "id": "c094b35b-2608-4d0a-84af-2ce3b99c12e4",
   "metadata": {},
   "outputs": [],
   "source": []
  },
  {
   "cell_type": "code",
   "execution_count": 5,
   "id": "3f3c2097-3f34-4aa9-b588-efac53272b31",
   "metadata": {},
   "outputs": [
    {
     "name": "stdout",
     "output_type": "stream",
     "text": [
      "{'book': 4}\n"
     ]
    }
   ],
   "source": [
    "word = {'book': 1}\n",
    "word['book'] += 3\n",
    "print(word) "
   ]
  }
 ],
 "metadata": {
  "kernelspec": {
   "display_name": "Python 3 (ipykernel)",
   "language": "python",
   "name": "python3"
  },
  "language_info": {
   "codemirror_mode": {
    "name": "ipython",
    "version": 3
   },
   "file_extension": ".py",
   "mimetype": "text/x-python",
   "name": "python",
   "nbconvert_exporter": "python",
   "pygments_lexer": "ipython3",
   "version": "3.11.9"
  }
 },
 "nbformat": 4,
 "nbformat_minor": 5
}
